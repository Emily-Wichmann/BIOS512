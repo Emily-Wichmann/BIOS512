{
 "cells": [
  {
   "cell_type": "markdown",
   "id": "e9216b63-c18a-4c9b-beff-4b6b2e1b6964",
   "metadata": {},
   "source": [
    "# BIOS512 Assignment #3"
   ]
  },
  {
   "cell_type": "markdown",
   "id": "4403015e-d27f-473c-8720-088ac6db57c9",
   "metadata": {},
   "source": [
    "Import the 📈Tidyverse into your `R` session"
   ]
  },
  {
   "cell_type": "code",
   "execution_count": 3,
   "id": "2cb997c6-b57c-4198-aa5c-8be897467c7c",
   "metadata": {},
   "outputs": [
    {
     "name": "stderr",
     "output_type": "stream",
     "text": [
      "Warning message:\n",
      "“Failed to locate timezone database”\n",
      "── \u001b[1mAttaching core tidyverse packages\u001b[22m ──────────────────────── tidyverse 2.0.0 ──\n",
      "\u001b[32m✔\u001b[39m \u001b[34mdplyr    \u001b[39m 1.1.3     \u001b[32m✔\u001b[39m \u001b[34mreadr    \u001b[39m 2.1.4\n",
      "\u001b[32m✔\u001b[39m \u001b[34mforcats  \u001b[39m 1.0.0     \u001b[32m✔\u001b[39m \u001b[34mstringr  \u001b[39m 1.5.0\n",
      "\u001b[32m✔\u001b[39m \u001b[34mggplot2  \u001b[39m 3.4.3     \u001b[32m✔\u001b[39m \u001b[34mtibble   \u001b[39m 3.2.1\n",
      "\u001b[32m✔\u001b[39m \u001b[34mlubridate\u001b[39m 1.9.2     \u001b[32m✔\u001b[39m \u001b[34mtidyr    \u001b[39m 1.3.0\n",
      "\u001b[32m✔\u001b[39m \u001b[34mpurrr    \u001b[39m 1.0.2     \n",
      "── \u001b[1mConflicts\u001b[22m ────────────────────────────────────────── tidyverse_conflicts() ──\n",
      "\u001b[31m✖\u001b[39m \u001b[34mdplyr\u001b[39m::\u001b[32mfilter()\u001b[39m masks \u001b[34mstats\u001b[39m::filter()\n",
      "\u001b[31m✖\u001b[39m \u001b[34mdplyr\u001b[39m::\u001b[32mlag()\u001b[39m    masks \u001b[34mstats\u001b[39m::lag()\n",
      "\u001b[36mℹ\u001b[39m Use the conflicted package (\u001b[3m\u001b[34m<http://conflicted.r-lib.org/>\u001b[39m\u001b[23m) to force all conflicts to become errors\n"
     ]
    }
   ],
   "source": [
    "library('tidyverse')"
   ]
  },
  {
   "cell_type": "markdown",
   "id": "47ccf7f6-01c6-46b4-94a1-f8dcd8ef8377",
   "metadata": {},
   "source": [
    "In this assignment we'll be using data from the [TidyTuesday Project](https://github.com/rfordatascience/tidytuesday). Specifically, we'll investigate vaccination rates at US schools. A `CSV` file of the data is located at:  \n",
    "\n",
    "[https://github.com/rfordatascience/tidytuesday/blob/master/data/2020/2020-02-25/measles.csv](https://github.com/rfordatascience/tidytuesday/blob/master/data/2020/2020-02-25/measles.csv)\n",
    "\n",
    "Get the \"raw\" data URL and import it into your `R` session using `read_csv`. Remember to capture the data under a variable name of your choosing!"
   ]
  },
  {
   "cell_type": "code",
   "execution_count": 4,
   "id": "8de37571-29da-4393-b1eb-ca13fcd70fed",
   "metadata": {},
   "outputs": [
    {
     "name": "stderr",
     "output_type": "stream",
     "text": [
      "\u001b[1mRows: \u001b[22m\u001b[34m66113\u001b[39m \u001b[1mColumns: \u001b[22m\u001b[34m16\u001b[39m\n",
      "\u001b[36m──\u001b[39m \u001b[1mColumn specification\u001b[22m \u001b[36m────────────────────────────────────────────────────────\u001b[39m\n",
      "\u001b[1mDelimiter:\u001b[22m \",\"\n",
      "\u001b[31mchr\u001b[39m (6): state, year, name, type, city, county\n",
      "\u001b[32mdbl\u001b[39m (8): index, enroll, mmr, overall, xmed, xper, lat, lng\n",
      "\u001b[33mlgl\u001b[39m (2): district, xrel\n",
      "\n",
      "\u001b[36mℹ\u001b[39m Use `spec()` to retrieve the full column specification for this data.\n",
      "\u001b[36mℹ\u001b[39m Specify the column types or set `show_col_types = FALSE` to quiet this message.\n"
     ]
    }
   ],
   "source": [
    "measles = read_csv('https://raw.githubusercontent.com/rfordatascience/tidytuesday/master/data/2020/2020-02-25/measles.csv')"
   ]
  },
  {
   "cell_type": "markdown",
   "id": "feb89cec-8cda-457d-95cf-89dbfa932ab4",
   "metadata": {},
   "source": [
    "The `mmr` column has holds 🤒 measles, mumps, rubella 🤒 vaccination rates for students in each respective school. **If the `mmr` value is not available for a school the `mmr` value is set to -1 in this data set.** \n",
    "\n",
    "The target `mmr` vaccination rate as [recommended by the CDC](https://www.cdc.gov/mmwr/preview/mmwrhtml/mm5632a3.htm) for schools is 95%. \n",
    "\n",
    "**Calculate the fraction of schools per state that have vaccination rates greater than the CDC 95%. Capture the output as a table called `df_vacc_rates`.**\n",
    "\n",
    "You'll need to do use `filter`, `group_by`, and `summarize`. \n",
    "\n",
    "I.e.\n",
    "1. Filter out schools that don't report `mmr` vaccination rate (keep schools where `mmr >= 0`).\n",
    "1. Group the data by `state`.\n",
    "1. Summarize fracion of vaccination rates above 95%.\n",
    "\n",
    "💡Remember `n()` stands for the number or records in a group. Also, `sum(mmr >= 95, na.rm=TRUE)` will count the number of values above or equal to 95.💡"
   ]
  },
  {
   "cell_type": "code",
   "execution_count": 48,
   "id": "0ba9a861-00fc-4392-a67d-cddbd5a994e0",
   "metadata": {},
   "outputs": [
    {
     "data": {
      "text/html": [
       "<table class=\"dataframe\">\n",
       "<caption>A tibble: 21 × 3</caption>\n",
       "<thead>\n",
       "\t<tr><th scope=col>state</th><th scope=col>sum(mmr &gt;= 95)</th><th scope=col>na.rm</th></tr>\n",
       "\t<tr><th scope=col>&lt;chr&gt;</th><th scope=col>&lt;int&gt;</th><th scope=col>&lt;lgl&gt;</th></tr>\n",
       "</thead>\n",
       "<tbody>\n",
       "\t<tr><td>Arizona      </td><td>  593</td><td>TRUE</td></tr>\n",
       "\t<tr><td>Arkansas     </td><td>    2</td><td>TRUE</td></tr>\n",
       "\t<tr><td>California   </td><td>12639</td><td>TRUE</td></tr>\n",
       "\t<tr><td>Colorado     </td><td>  939</td><td>TRUE</td></tr>\n",
       "\t<tr><td>Connecticut  </td><td>  478</td><td>TRUE</td></tr>\n",
       "\t<tr><td>Illinois     </td><td> 6893</td><td>TRUE</td></tr>\n",
       "\t<tr><td>Maine        </td><td>  169</td><td>TRUE</td></tr>\n",
       "\t<tr><td>Massachusetts</td><td>  826</td><td>TRUE</td></tr>\n",
       "\t<tr><td>Minnesota    </td><td>  755</td><td>TRUE</td></tr>\n",
       "\t<tr><td>Missouri     </td><td>  476</td><td>TRUE</td></tr>\n",
       "\t<tr><td>Montana      </td><td>  370</td><td>TRUE</td></tr>\n",
       "\t<tr><td>New York     </td><td> 3576</td><td>TRUE</td></tr>\n",
       "\t<tr><td>North Dakota </td><td>  164</td><td>TRUE</td></tr>\n",
       "\t<tr><td>Ohio         </td><td> 1435</td><td>TRUE</td></tr>\n",
       "\t<tr><td>Oregon       </td><td>  478</td><td>TRUE</td></tr>\n",
       "\t<tr><td>Pennsylvania </td><td> 1619</td><td>TRUE</td></tr>\n",
       "\t<tr><td>South Dakota </td><td>  277</td><td>TRUE</td></tr>\n",
       "\t<tr><td>Texas        </td><td>  508</td><td>TRUE</td></tr>\n",
       "\t<tr><td>Utah         </td><td>  410</td><td>TRUE</td></tr>\n",
       "\t<tr><td>Vermont      </td><td>  231</td><td>TRUE</td></tr>\n",
       "\t<tr><td>Washington   </td><td>  646</td><td>TRUE</td></tr>\n",
       "</tbody>\n",
       "</table>\n"
      ],
      "text/latex": [
       "A tibble: 21 × 3\n",
       "\\begin{tabular}{lll}\n",
       " state & sum(mmr >= 95) & na.rm\\\\\n",
       " <chr> & <int> & <lgl>\\\\\n",
       "\\hline\n",
       "\t Arizona       &   593 & TRUE\\\\\n",
       "\t Arkansas      &     2 & TRUE\\\\\n",
       "\t California    & 12639 & TRUE\\\\\n",
       "\t Colorado      &   939 & TRUE\\\\\n",
       "\t Connecticut   &   478 & TRUE\\\\\n",
       "\t Illinois      &  6893 & TRUE\\\\\n",
       "\t Maine         &   169 & TRUE\\\\\n",
       "\t Massachusetts &   826 & TRUE\\\\\n",
       "\t Minnesota     &   755 & TRUE\\\\\n",
       "\t Missouri      &   476 & TRUE\\\\\n",
       "\t Montana       &   370 & TRUE\\\\\n",
       "\t New York      &  3576 & TRUE\\\\\n",
       "\t North Dakota  &   164 & TRUE\\\\\n",
       "\t Ohio          &  1435 & TRUE\\\\\n",
       "\t Oregon        &   478 & TRUE\\\\\n",
       "\t Pennsylvania  &  1619 & TRUE\\\\\n",
       "\t South Dakota  &   277 & TRUE\\\\\n",
       "\t Texas         &   508 & TRUE\\\\\n",
       "\t Utah          &   410 & TRUE\\\\\n",
       "\t Vermont       &   231 & TRUE\\\\\n",
       "\t Washington    &   646 & TRUE\\\\\n",
       "\\end{tabular}\n"
      ],
      "text/markdown": [
       "\n",
       "A tibble: 21 × 3\n",
       "\n",
       "| state &lt;chr&gt; | sum(mmr &gt;= 95) &lt;int&gt; | na.rm &lt;lgl&gt; |\n",
       "|---|---|---|\n",
       "| Arizona       |   593 | TRUE |\n",
       "| Arkansas      |     2 | TRUE |\n",
       "| California    | 12639 | TRUE |\n",
       "| Colorado      |   939 | TRUE |\n",
       "| Connecticut   |   478 | TRUE |\n",
       "| Illinois      |  6893 | TRUE |\n",
       "| Maine         |   169 | TRUE |\n",
       "| Massachusetts |   826 | TRUE |\n",
       "| Minnesota     |   755 | TRUE |\n",
       "| Missouri      |   476 | TRUE |\n",
       "| Montana       |   370 | TRUE |\n",
       "| New York      |  3576 | TRUE |\n",
       "| North Dakota  |   164 | TRUE |\n",
       "| Ohio          |  1435 | TRUE |\n",
       "| Oregon        |   478 | TRUE |\n",
       "| Pennsylvania  |  1619 | TRUE |\n",
       "| South Dakota  |   277 | TRUE |\n",
       "| Texas         |   508 | TRUE |\n",
       "| Utah          |   410 | TRUE |\n",
       "| Vermont       |   231 | TRUE |\n",
       "| Washington    |   646 | TRUE |\n",
       "\n"
      ],
      "text/plain": [
       "   state         sum(mmr >= 95) na.rm\n",
       "1  Arizona         593          TRUE \n",
       "2  Arkansas          2          TRUE \n",
       "3  California    12639          TRUE \n",
       "4  Colorado        939          TRUE \n",
       "5  Connecticut     478          TRUE \n",
       "6  Illinois       6893          TRUE \n",
       "7  Maine           169          TRUE \n",
       "8  Massachusetts   826          TRUE \n",
       "9  Minnesota       755          TRUE \n",
       "10 Missouri        476          TRUE \n",
       "11 Montana         370          TRUE \n",
       "12 New York       3576          TRUE \n",
       "13 North Dakota    164          TRUE \n",
       "14 Ohio           1435          TRUE \n",
       "15 Oregon          478          TRUE \n",
       "16 Pennsylvania   1619          TRUE \n",
       "17 South Dakota    277          TRUE \n",
       "18 Texas           508          TRUE \n",
       "19 Utah            410          TRUE \n",
       "20 Vermont         231          TRUE \n",
       "21 Washington      646          TRUE "
      ]
     },
     "metadata": {},
     "output_type": "display_data"
    }
   ],
   "source": [
    "# create the df_vacc_rates here\n",
    "\n",
    "measles |>\n",
    "    filter(mmr >=0) |>\n",
    "    group_by(state)|>\n",
    "    summarize(sum(mmr >=95), na.rm=TRUE)\n",
    "\n",
    "df_rates <- measles |>\n",
    "    summarize(fraction_over_95=sum(mmr>=95, na.rm = TRUE)/n(), .groups = 'drop') |>\n",
    "    arrange(fraction_over_95)\n"
   ]
  },
  {
   "cell_type": "code",
   "execution_count": 8,
   "id": "2bfef881-26b6-4fcf-bf63-31fa4d65e018",
   "metadata": {
    "tags": []
   },
   "outputs": [],
   "source": []
  },
  {
   "cell_type": "markdown",
   "id": "900ddf7f-d801-4a70-9453-73bdd3277344",
   "metadata": {},
   "source": [
    "Which state (of those that report `mmr`) has the smallest fraction of schools above the CDC target vaccination rate of 95%?  "
   ]
  },
  {
   "cell_type": "markdown",
   "id": "88255f4c-ab9f-4045-9cae-1ec98362f737",
   "metadata": {},
   "source": [
    "Arkansas"
   ]
  },
  {
   "cell_type": "markdown",
   "id": "2866ca03-1f87-466e-ab0a-dd69140496e6",
   "metadata": {},
   "source": [
    "**Make a ECDF plot of the school vaccination rates in North Carolina.** Use the `overall` column which reports the \"overall\" vaccination rate at each school.\n",
    "\n",
    "❗️Remember, you can calculate the `y` value for ECDF charts using `row_number`, `mutate`, and `arrange`."
   ]
  },
  {
   "cell_type": "code",
   "execution_count": 55,
   "id": "478c5949-b5cb-4a4c-9915-6201427248c1",
   "metadata": {},
   "outputs": [
    {
     "data": {
      "text/html": [
       "<table class=\"dataframe\">\n",
       "<caption>A tibble: 6 × 18</caption>\n",
       "<thead>\n",
       "\t<tr><th scope=col>index</th><th scope=col>state</th><th scope=col>year</th><th scope=col>name</th><th scope=col>type</th><th scope=col>city</th><th scope=col>county</th><th scope=col>district</th><th scope=col>enroll</th><th scope=col>mmr</th><th scope=col>overall</th><th scope=col>xrel</th><th scope=col>xmed</th><th scope=col>xper</th><th scope=col>lat</th><th scope=col>lng</th><th scope=col>rn</th><th scope=col>fraction_of_schools</th></tr>\n",
       "\t<tr><th scope=col>&lt;dbl&gt;</th><th scope=col>&lt;chr&gt;</th><th scope=col>&lt;chr&gt;</th><th scope=col>&lt;chr&gt;</th><th scope=col>&lt;chr&gt;</th><th scope=col>&lt;chr&gt;</th><th scope=col>&lt;chr&gt;</th><th scope=col>&lt;lgl&gt;</th><th scope=col>&lt;dbl&gt;</th><th scope=col>&lt;dbl&gt;</th><th scope=col>&lt;dbl&gt;</th><th scope=col>&lt;lgl&gt;</th><th scope=col>&lt;dbl&gt;</th><th scope=col>&lt;dbl&gt;</th><th scope=col>&lt;dbl&gt;</th><th scope=col>&lt;dbl&gt;</th><th scope=col>&lt;int&gt;</th><th scope=col>&lt;dbl&gt;</th></tr>\n",
       "</thead>\n",
       "<tbody>\n",
       "\t<tr><td>1766</td><td>North Carolina</td><td>2018-19</td><td>Annunciation Catholic       </td><td>NA</td><td>NA</td><td>Craven     </td><td>NA</td><td> 23</td><td>-1</td><td>21.7</td><td>NA</td><td> NA</td><td>NA</td><td>34.87682</td><td>-76.90448</td><td>1</td><td>0.0004798464</td></tr>\n",
       "\t<tr><td>1765</td><td>North Carolina</td><td>2018-19</td><td>Starmount Acad of Excellence</td><td>NA</td><td>NA</td><td>Mecklenburg</td><td>NA</td><td> 77</td><td>-1</td><td>40.3</td><td>NA</td><td> NA</td><td>NA</td><td>35.13929</td><td>-80.87051</td><td>2</td><td>0.0009596929</td></tr>\n",
       "\t<tr><td>1764</td><td>North Carolina</td><td>2018-19</td><td>Spruce Pine Montessori      </td><td>NA</td><td>NA</td><td>Mitchell   </td><td>NA</td><td>  7</td><td>-1</td><td>42.9</td><td>NA</td><td> NA</td><td>NA</td><td>35.91674</td><td>-82.06719</td><td>3</td><td>0.0014395393</td></tr>\n",
       "\t<tr><td>1763</td><td>North Carolina</td><td>2018-19</td><td>Moyock Elementary           </td><td>NA</td><td>NA</td><td>Currituck  </td><td>NA</td><td> 85</td><td>-1</td><td>43.5</td><td>NA</td><td> NA</td><td>NA</td><td>36.52490</td><td>-76.17366</td><td>4</td><td>0.0019193858</td></tr>\n",
       "\t<tr><td>1762</td><td>North Carolina</td><td>2018-19</td><td>Liberty Christian           </td><td>NA</td><td>NA</td><td>Durham     </td><td>NA</td><td> 20</td><td>-1</td><td>45.0</td><td>NA</td><td>5.0</td><td>NA</td><td>36.06362</td><td>-78.92544</td><td>5</td><td>0.0023992322</td></tr>\n",
       "\t<tr><td>1761</td><td>North Carolina</td><td>2018-19</td><td>Nations Ford Elementary     </td><td>NA</td><td>NA</td><td>Mecklenburg</td><td>NA</td><td>117</td><td>-1</td><td>45.3</td><td>NA</td><td>0.9</td><td>NA</td><td>35.15489</td><td>-80.90022</td><td>6</td><td>0.0028790787</td></tr>\n",
       "</tbody>\n",
       "</table>\n"
      ],
      "text/latex": [
       "A tibble: 6 × 18\n",
       "\\begin{tabular}{llllllllllllllllll}\n",
       " index & state & year & name & type & city & county & district & enroll & mmr & overall & xrel & xmed & xper & lat & lng & rn & fraction\\_of\\_schools\\\\\n",
       " <dbl> & <chr> & <chr> & <chr> & <chr> & <chr> & <chr> & <lgl> & <dbl> & <dbl> & <dbl> & <lgl> & <dbl> & <dbl> & <dbl> & <dbl> & <int> & <dbl>\\\\\n",
       "\\hline\n",
       "\t 1766 & North Carolina & 2018-19 & Annunciation Catholic        & NA & NA & Craven      & NA &  23 & -1 & 21.7 & NA &  NA & NA & 34.87682 & -76.90448 & 1 & 0.0004798464\\\\\n",
       "\t 1765 & North Carolina & 2018-19 & Starmount Acad of Excellence & NA & NA & Mecklenburg & NA &  77 & -1 & 40.3 & NA &  NA & NA & 35.13929 & -80.87051 & 2 & 0.0009596929\\\\\n",
       "\t 1764 & North Carolina & 2018-19 & Spruce Pine Montessori       & NA & NA & Mitchell    & NA &   7 & -1 & 42.9 & NA &  NA & NA & 35.91674 & -82.06719 & 3 & 0.0014395393\\\\\n",
       "\t 1763 & North Carolina & 2018-19 & Moyock Elementary            & NA & NA & Currituck   & NA &  85 & -1 & 43.5 & NA &  NA & NA & 36.52490 & -76.17366 & 4 & 0.0019193858\\\\\n",
       "\t 1762 & North Carolina & 2018-19 & Liberty Christian            & NA & NA & Durham      & NA &  20 & -1 & 45.0 & NA & 5.0 & NA & 36.06362 & -78.92544 & 5 & 0.0023992322\\\\\n",
       "\t 1761 & North Carolina & 2018-19 & Nations Ford Elementary      & NA & NA & Mecklenburg & NA & 117 & -1 & 45.3 & NA & 0.9 & NA & 35.15489 & -80.90022 & 6 & 0.0028790787\\\\\n",
       "\\end{tabular}\n"
      ],
      "text/markdown": [
       "\n",
       "A tibble: 6 × 18\n",
       "\n",
       "| index &lt;dbl&gt; | state &lt;chr&gt; | year &lt;chr&gt; | name &lt;chr&gt; | type &lt;chr&gt; | city &lt;chr&gt; | county &lt;chr&gt; | district &lt;lgl&gt; | enroll &lt;dbl&gt; | mmr &lt;dbl&gt; | overall &lt;dbl&gt; | xrel &lt;lgl&gt; | xmed &lt;dbl&gt; | xper &lt;dbl&gt; | lat &lt;dbl&gt; | lng &lt;dbl&gt; | rn &lt;int&gt; | fraction_of_schools &lt;dbl&gt; |\n",
       "|---|---|---|---|---|---|---|---|---|---|---|---|---|---|---|---|---|---|\n",
       "| 1766 | North Carolina | 2018-19 | Annunciation Catholic        | NA | NA | Craven      | NA |  23 | -1 | 21.7 | NA |  NA | NA | 34.87682 | -76.90448 | 1 | 0.0004798464 |\n",
       "| 1765 | North Carolina | 2018-19 | Starmount Acad of Excellence | NA | NA | Mecklenburg | NA |  77 | -1 | 40.3 | NA |  NA | NA | 35.13929 | -80.87051 | 2 | 0.0009596929 |\n",
       "| 1764 | North Carolina | 2018-19 | Spruce Pine Montessori       | NA | NA | Mitchell    | NA |   7 | -1 | 42.9 | NA |  NA | NA | 35.91674 | -82.06719 | 3 | 0.0014395393 |\n",
       "| 1763 | North Carolina | 2018-19 | Moyock Elementary            | NA | NA | Currituck   | NA |  85 | -1 | 43.5 | NA |  NA | NA | 36.52490 | -76.17366 | 4 | 0.0019193858 |\n",
       "| 1762 | North Carolina | 2018-19 | Liberty Christian            | NA | NA | Durham      | NA |  20 | -1 | 45.0 | NA | 5.0 | NA | 36.06362 | -78.92544 | 5 | 0.0023992322 |\n",
       "| 1761 | North Carolina | 2018-19 | Nations Ford Elementary      | NA | NA | Mecklenburg | NA | 117 | -1 | 45.3 | NA | 0.9 | NA | 35.15489 | -80.90022 | 6 | 0.0028790787 |\n",
       "\n"
      ],
      "text/plain": [
       "  index state          year    name                         type city\n",
       "1 1766  North Carolina 2018-19 Annunciation Catholic        NA   NA  \n",
       "2 1765  North Carolina 2018-19 Starmount Acad of Excellence NA   NA  \n",
       "3 1764  North Carolina 2018-19 Spruce Pine Montessori       NA   NA  \n",
       "4 1763  North Carolina 2018-19 Moyock Elementary            NA   NA  \n",
       "5 1762  North Carolina 2018-19 Liberty Christian            NA   NA  \n",
       "6 1761  North Carolina 2018-19 Nations Ford Elementary      NA   NA  \n",
       "  county      district enroll mmr overall xrel xmed xper lat      lng       rn\n",
       "1 Craven      NA        23    -1  21.7    NA    NA  NA   34.87682 -76.90448 1 \n",
       "2 Mecklenburg NA        77    -1  40.3    NA    NA  NA   35.13929 -80.87051 2 \n",
       "3 Mitchell    NA         7    -1  42.9    NA    NA  NA   35.91674 -82.06719 3 \n",
       "4 Currituck   NA        85    -1  43.5    NA    NA  NA   36.52490 -76.17366 4 \n",
       "5 Durham      NA        20    -1  45.0    NA   5.0  NA   36.06362 -78.92544 5 \n",
       "6 Mecklenburg NA       117    -1  45.3    NA   0.9  NA   35.15489 -80.90022 6 \n",
       "  fraction_of_schools\n",
       "1 0.0004798464       \n",
       "2 0.0009596929       \n",
       "3 0.0014395393       \n",
       "4 0.0019193858       \n",
       "5 0.0023992322       \n",
       "6 0.0028790787       "
      ]
     },
     "metadata": {},
     "output_type": "display_data"
    }
   ],
   "source": [
    "\n",
    "statev <- measles |> \n",
    "        filter(state == 'North Carolina', overall >= 0)|>\n",
    "        arrange(overall)|>\n",
    "        mutate(rn = row_number(), fraction_of_schools = rn/n())\n",
    "\n",
    "statev |> head()\n",
    "\n"
   ]
  },
  {
   "cell_type": "code",
   "execution_count": 54,
   "id": "7fb8fcea-0a07-49c6-82c6-8aa5d6e5902d",
   "metadata": {
    "tags": []
   },
   "outputs": [
    {
     "data": {
      "text/html": [
       "<table class=\"dataframe\">\n",
       "<caption>A tibble: 6 × 19</caption>\n",
       "<thead>\n",
       "\t<tr><th scope=col>index</th><th scope=col>state</th><th scope=col>year</th><th scope=col>name</th><th scope=col>type</th><th scope=col>city</th><th scope=col>county</th><th scope=col>district</th><th scope=col>enroll</th><th scope=col>mmr</th><th scope=col>overall</th><th scope=col>xrel</th><th scope=col>xmed</th><th scope=col>xper</th><th scope=col>lat</th><th scope=col>lng</th><th scope=col>rn</th><th scope=col>fraction_of_schools</th><th scope=col>overallmedianvalue</th></tr>\n",
       "\t<tr><th scope=col>&lt;dbl&gt;</th><th scope=col>&lt;chr&gt;</th><th scope=col>&lt;chr&gt;</th><th scope=col>&lt;chr&gt;</th><th scope=col>&lt;chr&gt;</th><th scope=col>&lt;chr&gt;</th><th scope=col>&lt;chr&gt;</th><th scope=col>&lt;lgl&gt;</th><th scope=col>&lt;dbl&gt;</th><th scope=col>&lt;dbl&gt;</th><th scope=col>&lt;dbl&gt;</th><th scope=col>&lt;lgl&gt;</th><th scope=col>&lt;dbl&gt;</th><th scope=col>&lt;dbl&gt;</th><th scope=col>&lt;dbl&gt;</th><th scope=col>&lt;dbl&gt;</th><th scope=col>&lt;int&gt;</th><th scope=col>&lt;dbl&gt;</th><th scope=col>&lt;dbl&gt;</th></tr>\n",
       "</thead>\n",
       "<tbody>\n",
       "\t<tr><td>1766</td><td>North Carolina</td><td>2018-19</td><td>Annunciation Catholic       </td><td>NA</td><td>NA</td><td>Craven     </td><td>NA</td><td> 23</td><td>-1</td><td>21.7</td><td>NA</td><td> NA</td><td>NA</td><td>34.87682</td><td>-76.90448</td><td>1</td><td>0.0004798464</td><td>0.5002399</td></tr>\n",
       "\t<tr><td>1765</td><td>North Carolina</td><td>2018-19</td><td>Starmount Acad of Excellence</td><td>NA</td><td>NA</td><td>Mecklenburg</td><td>NA</td><td> 77</td><td>-1</td><td>40.3</td><td>NA</td><td> NA</td><td>NA</td><td>35.13929</td><td>-80.87051</td><td>2</td><td>0.0009596929</td><td>0.5002399</td></tr>\n",
       "\t<tr><td>1764</td><td>North Carolina</td><td>2018-19</td><td>Spruce Pine Montessori      </td><td>NA</td><td>NA</td><td>Mitchell   </td><td>NA</td><td>  7</td><td>-1</td><td>42.9</td><td>NA</td><td> NA</td><td>NA</td><td>35.91674</td><td>-82.06719</td><td>3</td><td>0.0014395393</td><td>0.5002399</td></tr>\n",
       "\t<tr><td>1763</td><td>North Carolina</td><td>2018-19</td><td>Moyock Elementary           </td><td>NA</td><td>NA</td><td>Currituck  </td><td>NA</td><td> 85</td><td>-1</td><td>43.5</td><td>NA</td><td> NA</td><td>NA</td><td>36.52490</td><td>-76.17366</td><td>4</td><td>0.0019193858</td><td>0.5002399</td></tr>\n",
       "\t<tr><td>1762</td><td>North Carolina</td><td>2018-19</td><td>Liberty Christian           </td><td>NA</td><td>NA</td><td>Durham     </td><td>NA</td><td> 20</td><td>-1</td><td>45.0</td><td>NA</td><td>5.0</td><td>NA</td><td>36.06362</td><td>-78.92544</td><td>5</td><td>0.0023992322</td><td>0.5002399</td></tr>\n",
       "\t<tr><td>1761</td><td>North Carolina</td><td>2018-19</td><td>Nations Ford Elementary     </td><td>NA</td><td>NA</td><td>Mecklenburg</td><td>NA</td><td>117</td><td>-1</td><td>45.3</td><td>NA</td><td>0.9</td><td>NA</td><td>35.15489</td><td>-80.90022</td><td>6</td><td>0.0028790787</td><td>0.5002399</td></tr>\n",
       "</tbody>\n",
       "</table>\n"
      ],
      "text/latex": [
       "A tibble: 6 × 19\n",
       "\\begin{tabular}{lllllllllllllllllll}\n",
       " index & state & year & name & type & city & county & district & enroll & mmr & overall & xrel & xmed & xper & lat & lng & rn & fraction\\_of\\_schools & overallmedianvalue\\\\\n",
       " <dbl> & <chr> & <chr> & <chr> & <chr> & <chr> & <chr> & <lgl> & <dbl> & <dbl> & <dbl> & <lgl> & <dbl> & <dbl> & <dbl> & <dbl> & <int> & <dbl> & <dbl>\\\\\n",
       "\\hline\n",
       "\t 1766 & North Carolina & 2018-19 & Annunciation Catholic        & NA & NA & Craven      & NA &  23 & -1 & 21.7 & NA &  NA & NA & 34.87682 & -76.90448 & 1 & 0.0004798464 & 0.5002399\\\\\n",
       "\t 1765 & North Carolina & 2018-19 & Starmount Acad of Excellence & NA & NA & Mecklenburg & NA &  77 & -1 & 40.3 & NA &  NA & NA & 35.13929 & -80.87051 & 2 & 0.0009596929 & 0.5002399\\\\\n",
       "\t 1764 & North Carolina & 2018-19 & Spruce Pine Montessori       & NA & NA & Mitchell    & NA &   7 & -1 & 42.9 & NA &  NA & NA & 35.91674 & -82.06719 & 3 & 0.0014395393 & 0.5002399\\\\\n",
       "\t 1763 & North Carolina & 2018-19 & Moyock Elementary            & NA & NA & Currituck   & NA &  85 & -1 & 43.5 & NA &  NA & NA & 36.52490 & -76.17366 & 4 & 0.0019193858 & 0.5002399\\\\\n",
       "\t 1762 & North Carolina & 2018-19 & Liberty Christian            & NA & NA & Durham      & NA &  20 & -1 & 45.0 & NA & 5.0 & NA & 36.06362 & -78.92544 & 5 & 0.0023992322 & 0.5002399\\\\\n",
       "\t 1761 & North Carolina & 2018-19 & Nations Ford Elementary      & NA & NA & Mecklenburg & NA & 117 & -1 & 45.3 & NA & 0.9 & NA & 35.15489 & -80.90022 & 6 & 0.0028790787 & 0.5002399\\\\\n",
       "\\end{tabular}\n"
      ],
      "text/markdown": [
       "\n",
       "A tibble: 6 × 19\n",
       "\n",
       "| index &lt;dbl&gt; | state &lt;chr&gt; | year &lt;chr&gt; | name &lt;chr&gt; | type &lt;chr&gt; | city &lt;chr&gt; | county &lt;chr&gt; | district &lt;lgl&gt; | enroll &lt;dbl&gt; | mmr &lt;dbl&gt; | overall &lt;dbl&gt; | xrel &lt;lgl&gt; | xmed &lt;dbl&gt; | xper &lt;dbl&gt; | lat &lt;dbl&gt; | lng &lt;dbl&gt; | rn &lt;int&gt; | fraction_of_schools &lt;dbl&gt; | overallmedianvalue &lt;dbl&gt; |\n",
       "|---|---|---|---|---|---|---|---|---|---|---|---|---|---|---|---|---|---|---|\n",
       "| 1766 | North Carolina | 2018-19 | Annunciation Catholic        | NA | NA | Craven      | NA |  23 | -1 | 21.7 | NA |  NA | NA | 34.87682 | -76.90448 | 1 | 0.0004798464 | 0.5002399 |\n",
       "| 1765 | North Carolina | 2018-19 | Starmount Acad of Excellence | NA | NA | Mecklenburg | NA |  77 | -1 | 40.3 | NA |  NA | NA | 35.13929 | -80.87051 | 2 | 0.0009596929 | 0.5002399 |\n",
       "| 1764 | North Carolina | 2018-19 | Spruce Pine Montessori       | NA | NA | Mitchell    | NA |   7 | -1 | 42.9 | NA |  NA | NA | 35.91674 | -82.06719 | 3 | 0.0014395393 | 0.5002399 |\n",
       "| 1763 | North Carolina | 2018-19 | Moyock Elementary            | NA | NA | Currituck   | NA |  85 | -1 | 43.5 | NA |  NA | NA | 36.52490 | -76.17366 | 4 | 0.0019193858 | 0.5002399 |\n",
       "| 1762 | North Carolina | 2018-19 | Liberty Christian            | NA | NA | Durham      | NA |  20 | -1 | 45.0 | NA | 5.0 | NA | 36.06362 | -78.92544 | 5 | 0.0023992322 | 0.5002399 |\n",
       "| 1761 | North Carolina | 2018-19 | Nations Ford Elementary      | NA | NA | Mecklenburg | NA | 117 | -1 | 45.3 | NA | 0.9 | NA | 35.15489 | -80.90022 | 6 | 0.0028790787 | 0.5002399 |\n",
       "\n"
      ],
      "text/plain": [
       "  index state          year    name                         type city\n",
       "1 1766  North Carolina 2018-19 Annunciation Catholic        NA   NA  \n",
       "2 1765  North Carolina 2018-19 Starmount Acad of Excellence NA   NA  \n",
       "3 1764  North Carolina 2018-19 Spruce Pine Montessori       NA   NA  \n",
       "4 1763  North Carolina 2018-19 Moyock Elementary            NA   NA  \n",
       "5 1762  North Carolina 2018-19 Liberty Christian            NA   NA  \n",
       "6 1761  North Carolina 2018-19 Nations Ford Elementary      NA   NA  \n",
       "  county      district enroll mmr overall xrel xmed xper lat      lng       rn\n",
       "1 Craven      NA        23    -1  21.7    NA    NA  NA   34.87682 -76.90448 1 \n",
       "2 Mecklenburg NA        77    -1  40.3    NA    NA  NA   35.13929 -80.87051 2 \n",
       "3 Mitchell    NA         7    -1  42.9    NA    NA  NA   35.91674 -82.06719 3 \n",
       "4 Currituck   NA        85    -1  43.5    NA    NA  NA   36.52490 -76.17366 4 \n",
       "5 Durham      NA        20    -1  45.0    NA   5.0  NA   36.06362 -78.92544 5 \n",
       "6 Mecklenburg NA       117    -1  45.3    NA   0.9  NA   35.15489 -80.90022 6 \n",
       "  fraction_of_schools overallmedianvalue\n",
       "1 0.0004798464        0.5002399         \n",
       "2 0.0009596929        0.5002399         \n",
       "3 0.0014395393        0.5002399         \n",
       "4 0.0019193858        0.5002399         \n",
       "5 0.0023992322        0.5002399         \n",
       "6 0.0028790787        0.5002399         "
      ]
     },
     "metadata": {},
     "output_type": "display_data"
    }
   ],
   "source": [
    "median <-  statev |>\n",
    "    dplyr:: mutate(overallmedianvalue = median(fraction_of_schools))\n",
    "median |> head()"
   ]
  },
  {
   "cell_type": "markdown",
   "id": "9fee827f-2793-4e51-a26a-f48b63166956",
   "metadata": {},
   "source": [
    "(My solution is below if you want to peek 👀. Uncomment the code, change the cell to `markdown`, and exectute it.)"
   ]
  },
  {
   "cell_type": "code",
   "execution_count": 57,
   "id": "7cb5181e-b10a-4ca9-acad-deb53647fdcb",
   "metadata": {
    "tags": []
   },
   "outputs": [
    {
     "data": {
      "image/png": "[encoded data removed]",
      "text/plain": [
       "plot without title"
      ]
     },
     "metadata": {
      "image/png": {
       "height": 420,
       "width": 420
      }
     },
     "output_type": "display_data"
    }
   ],
   "source": [
    "p = ggplot(statev, aes(x=overall, y=fraction_of_schools)) + #stat_summary(fun=median, geom=\"vline\", aes(xintercept=stat(x), y=\"fraction_of_schools\"), color=\"red\")+\n",
    "    geom_step() +\n",
    "    geom_point(size=0.2, color='darkblue') +\n",
    "    geom_vline(xintercept = 95 , color='blue', linetype = 'dotted')+ geom_vline(xintercept = 50.02 , color='red', linetype = 'dotted')+\n",
    "    theme(panel.grid = element_line(color=\"gray\")) +\n",
    "        xlab(\"Vaccination Rate (%)\") +ylab(\"Fraction of Schools\")\n",
    "p\n"
   ]
  },
  {
   "cell_type": "markdown",
   "id": "14b90b4f-e78c-4c21-950b-b3e691d34e3d",
   "metadata": {},
   "source": [
    "![](https://github.com/chuckpr/BIOS512/blob/main/assignments/measles-chart.png?raw=true)"
   ]
  },
  {
   "cell_type": "markdown",
   "id": "d2041941-dcee-42e8-957f-a725dc36388f",
   "metadata": {},
   "source": [
    "Is the median vaccination rate for NC schools above the CDC recommended target?"
   ]
  },
  {
   "cell_type": "markdown",
   "id": "f5a87eb1-5d5a-4cb8-9c11-bc82ed03d715",
   "metadata": {},
   "source": [
    "no"
   ]
  }
 ],
 "metadata": {
  "kernelspec": {
   "display_name": "bios512:R",
   "language": "R",
   "name": "conda-env-bios512-r"
  },
  "language_info": {
   "codemirror_mode": "r",
   "file_extension": ".r",
   "mimetype": "text/x-r-source",
   "name": "R",
   "pygments_lexer": "r",
   "version": "4.3.1"
  }
 },
 "nbformat": 4,
 "nbformat_minor": 5
}
